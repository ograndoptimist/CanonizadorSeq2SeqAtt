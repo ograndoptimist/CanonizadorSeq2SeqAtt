{
 "cells": [
  {
   "cell_type": "code",
   "execution_count": 1,
   "metadata": {},
   "outputs": [],
   "source": [
    "import numpy as np"
   ]
  },
  {
   "cell_type": "code",
   "execution_count": 2,
   "metadata": {},
   "outputs": [],
   "source": [
    "import torch\n",
    "import torch.nn as nn\n",
    "import torch.nn.functional as F\n",
    "from torch.autograd import Variable"
   ]
  },
  {
   "cell_type": "code",
   "execution_count": 3,
   "metadata": {},
   "outputs": [],
   "source": [
    "import math, copy, time"
   ]
  },
  {
   "cell_type": "code",
   "execution_count": 4,
   "metadata": {},
   "outputs": [],
   "source": [
    "import matplotlib.pyplot as plt"
   ]
  },
  {
   "cell_type": "code",
   "execution_count": 5,
   "metadata": {},
   "outputs": [],
   "source": [
    "class EncoderDecoder(nn.Module):\n",
    "    \"\"\"\n",
    "        A standard Encoder-Decoder architecture.\n",
    "        Base for this and many other models.\n",
    "    \"\"\"\n",
    "    def __init__(self, encoder, decoder, src_embed, tgt_embed, generator):\n",
    "        super(EncoderDecoder, self).__init__()\n",
    "        self.encoder = encoder\n",
    "        self.decoder = decoder\n",
    "        self.src_embed = src_embed\n",
    "        self.tgt_embed = tgt_embed\n",
    "        self.generator = generator\n",
    "        \n",
    "    def forward(self, src, tgt, src_mask, tgt_mask):\n",
    "        \"\"\"\n",
    "            Take in and process masked src and target sequences.\n",
    "        \"\"\"\n",
    "        return self.decode(self.encode(src, src_mask), src_mask, tgt, tgt_mask)\n",
    "    \n",
    "    def encode(self, src, src_mask):\n",
    "        return self.encoder(self.src_embed(src), src_mask)\n",
    "    \n",
    "    def decode(self, memory, src_mask, tgt, tgt_mask):\n",
    "        return self.decoder(self.tgt_embed(tgt), memory, src_mask, tgt_mask)"
   ]
  },
  {
   "cell_type": "code",
   "execution_count": 6,
   "metadata": {},
   "outputs": [],
   "source": [
    "class Generator(nn.Module):\n",
    "    \"\"\"\n",
    "        Define standard linear + softmax generation step.\n",
    "    \"\"\"\n",
    "    def __init__(self, d_model, vocab):\n",
    "        super(Generator, self).__init__()\n",
    "        self.proj = nn.Linear(d_model, vocab)\n",
    "\n",
    "    def forward(self, x):\n",
    "        return F.log_softmax(self.proj(x), dim=-1)"
   ]
  },
  {
   "cell_type": "code",
   "execution_count": 7,
   "metadata": {},
   "outputs": [],
   "source": [
    "def clones(module, N):\n",
    "    \"\"\"\n",
    "        Produce N identical layers.\n",
    "    \"\"\"\n",
    "    return nn.ModuleList([copy.deepcopy(module) for _ in range(N)])"
   ]
  },
  {
   "cell_type": "code",
   "execution_count": 8,
   "metadata": {},
   "outputs": [],
   "source": [
    "class Encoder(nn.Module):\n",
    "    \"\"\"\n",
    "        Core encoder is a stack of N layers\n",
    "    \"\"\"\n",
    "    def __init__(self, layer, N):\n",
    "        super(Encoder, self).__init__()\n",
    "        self.layers = clones(layer, N)\n",
    "        self.norm = LayerNorm(layer.size)\n",
    "        \n",
    "    def forward(self, x, mask):\n",
    "        \"\"\"\n",
    "            Pass the input (and mask) through each layer in turn.\n",
    "        \"\"\"\n",
    "        for layer in self.layers:\n",
    "            x = layer(x, mask)\n",
    "        return self.norm(x)"
   ]
  },
  {
   "cell_type": "code",
   "execution_count": 9,
   "metadata": {},
   "outputs": [],
   "source": [
    "class LayerNorm(nn.Module):\n",
    "    \"\"\"\n",
    "        Construct a layernorm module (See citation for details).\n",
    "    \"\"\"\n",
    "    def __init__(self, features, eps=1e-6):\n",
    "        super(LayerNorm, self).__init__()\n",
    "        self.a_2 = nn.Parameter(torch.ones(features))\n",
    "        self.b_2 = nn.Parameter(torch.zeros(features))\n",
    "        self.eps = eps\n",
    "\n",
    "    def forward(self, x):\n",
    "        mean = x.mean(-1, keepdim=True)\n",
    "        std = x.std(-1, keepdim=True)\n",
    "        return self.a_2 * (x - mean) / (std + self.eps) + self.b_2"
   ]
  },
  {
   "cell_type": "code",
   "execution_count": 10,
   "metadata": {},
   "outputs": [],
   "source": [
    "class SublayerConnection(nn.Module):\n",
    "    \"\"\"\n",
    "        A residual connection followed by a layer norm.\n",
    "        Note for code simplicity the norm is first as opposed to last.\n",
    "    \"\"\"\n",
    "    def __init__(self, size, dropout):\n",
    "        super(SublayerConnection, self).__init__()\n",
    "        self.norm = LayerNorm(size)\n",
    "        self.dropout = nn.Dropout(dropout)\n",
    "\n",
    "    def forward(self, x, sublayer):\n",
    "        \"\"\"\n",
    "            Apply residual connection to any sublayer with the same size.\n",
    "        \"\"\"\n",
    "        return x + self.dropout(sublayer(self.norm(x)))"
   ]
  },
  {
   "cell_type": "code",
   "execution_count": 11,
   "metadata": {},
   "outputs": [],
   "source": [
    "class EncoderLayer(nn.Module):\n",
    "    \"\"\"\n",
    "        Encoder is made up of self-attn and feed forward (defined below)\n",
    "    \"\"\"\n",
    "    def __init__(self, size, self_attn, feed_forward, dropout):\n",
    "        super(EncoderLayer, self).__init__()\n",
    "        self.self_attn = self_attn\n",
    "        self.feed_forward = feed_forward\n",
    "        self.sublayer = clones(SublayerConnection(size, dropout), 2)\n",
    "        self.size = size\n",
    "\n",
    "    def forward(self, x, mask):\n",
    "        x = self.sublayer[0](x, lambda x: self.self_attn(x, x, x, mask))\n",
    "        return self.sublayer[1](x, self.feed_forward)"
   ]
  },
  {
   "cell_type": "code",
   "execution_count": 12,
   "metadata": {},
   "outputs": [],
   "source": [
    "class Decoder(nn.Module):\n",
    "    \"\"\"\n",
    "        Generic N layer decoder with masking.\n",
    "    \"\"\"\n",
    "    def __init__(self, layer, N):\n",
    "        super(Decoder, self).__init__()\n",
    "        self.layers = clones(layer, N)\n",
    "        self.norm = LayerNorm(layer.size)\n",
    "        \n",
    "    def forward(self, x, memory, src_mask, tgt_mask):\n",
    "        for layer in self.layers:\n",
    "            x = layer(x, memory, src_mask, tgt_mask)\n",
    "        return self.norm(x)"
   ]
  },
  {
   "cell_type": "code",
   "execution_count": 13,
   "metadata": {},
   "outputs": [],
   "source": [
    "class DecoderLayer(nn.Module):\n",
    "    \"\"\"\n",
    "        Decoder is made of self-attn, src-attn, and feed forward (defined below)\n",
    "    \"\"\"\n",
    "    def __init__(self, size, self_attn, src_attn, feed_forward, dropout):\n",
    "        super(DecoderLayer, self).__init__()\n",
    "        self.size = size\n",
    "        self.self_attn = self_attn\n",
    "        self.src_attn = src_attn\n",
    "        self.feed_forward = feed_forward\n",
    "        self.sublayer = clones(SublayerConnection(size, dropout), 3)\n",
    " \n",
    "    def forward(self, x, memory, src_mask, tgt_mask):\n",
    "        m = memory\n",
    "        x = self.sublayer[0](x, lambda x: self.self_attn(x, x, x, tgt_mask))\n",
    "        x = self.sublayer[1](x, lambda x: self.src_attn(x, m, m, src_mask))\n",
    "        return self.sublayer[2](x, self.feed_forward)"
   ]
  },
  {
   "cell_type": "code",
   "execution_count": 14,
   "metadata": {},
   "outputs": [],
   "source": [
    "def subsequent_mask(size):\n",
    "    \"\"\"\n",
    "        Mask out subsequent positions.\n",
    "    \"\"\"\n",
    "    attn_shape = (1, size, size)\n",
    "    subsequent_mask = np.triu(np.ones(attn_shape), k=1).astype('uint8')\n",
    "    return torch.from_numpy(subsequent_mask) == 0"
   ]
  },
  {
   "cell_type": "code",
   "execution_count": 15,
   "metadata": {},
   "outputs": [],
   "source": [
    "def attention(query, key, value, mask=None, dropout=None):\n",
    "    \"\"\"\n",
    "        Compute 'Scaled Dot Product Attention'\n",
    "    \"\"\"\n",
    "    d_k = query.size(-1)\n",
    "    scores = torch.matmul(query, key.transpose(-2, -1)) / math.sqrt(d_k)\n",
    "    if mask is not None:\n",
    "        scores = scores.masked_fill(mask == 0, -1e9)\n",
    "    p_attn = F.softmax(scores, dim = -1)\n",
    "    if dropout is not None:\n",
    "        p_attn = dropout(p_attn)\n",
    "    return torch.matmul(p_attn, value), p_attn"
   ]
  },
  {
   "cell_type": "code",
   "execution_count": 16,
   "metadata": {},
   "outputs": [],
   "source": [
    "class MultiHeadedAttention(nn.Module):\n",
    "    def __init__(self, h, d_model, dropout=0.1):\n",
    "        \"\"\"\n",
    "            Take in model size and number of heads.\n",
    "        \"\"\"\n",
    "        super(MultiHeadedAttention, self).__init__()\n",
    "        assert d_model % h == 0\n",
    "        # We assume d_v always equals d_k\n",
    "        self.d_k = d_model // h\n",
    "        self.h = h\n",
    "        self.linears = clones(nn.Linear(d_model, d_model), 4)\n",
    "        self.attn = None\n",
    "        self.dropout = nn.Dropout(p=dropout)\n",
    "        \n",
    "    def forward(self, query, key, value, mask=None):\n",
    "        if mask is not None:\n",
    "            # Same mask applied to all h heads.\n",
    "            mask = mask.unsqueeze(1)\n",
    "        nbatches = query.size(0)\n",
    "        \n",
    "        # 1) Do all the linear projections in batch from d_model => h x d_k \n",
    "        query, key, value = \\\n",
    "            [l(x).view(nbatches, -1, self.h, self.d_k).transpose(1, 2)\n",
    "             for l, x in zip(self.linears, (query, key, value))]\n",
    "        \n",
    "        # 2) Apply attention on all the projected vectors in batch. \n",
    "        x, self.attn = attention(query, key, value, mask=mask, dropout=self.dropout)\n",
    "        \n",
    "        # 3) \"Concat\" using a view and apply a final linear. \n",
    "        x = x.transpose(1, 2).contiguous().view(nbatches, -1, self.h * self.d_k)\n",
    "        return self.linears[-1](x)"
   ]
  },
  {
   "cell_type": "code",
   "execution_count": 17,
   "metadata": {},
   "outputs": [],
   "source": [
    "class PositionwiseFeedForward(nn.Module):\n",
    "    \"\"\"\n",
    "        Implements FFN equation.\n",
    "    \"\"\"\n",
    "    def __init__(self, d_model, d_ff, dropout=0.1):\n",
    "        super(PositionwiseFeedForward, self).__init__()\n",
    "        self.w_1 = nn.Linear(d_model, d_ff)\n",
    "        self.w_2 = nn.Linear(d_ff, d_model)\n",
    "        self.dropout = nn.Dropout(dropout)\n",
    "\n",
    "    def forward(self, x):\n",
    "        return self.w_2(self.dropout(F.relu(self.w_1(x))))"
   ]
  },
  {
   "cell_type": "code",
   "execution_count": 18,
   "metadata": {},
   "outputs": [],
   "source": [
    "class Embeddings(nn.Module):\n",
    "    def __init__(self, d_model, vocab):\n",
    "        super(Embeddings, self).__init__()\n",
    "        self.lut = nn.Embedding(vocab, d_model)\n",
    "        self.d_model = d_model\n",
    "\n",
    "    def forward(self, x):\n",
    "        return self.lut(x) * math.sqrt(self.d_model)"
   ]
  },
  {
   "cell_type": "code",
   "execution_count": 19,
   "metadata": {},
   "outputs": [],
   "source": [
    "class PositionalEncoding(nn.Module):\n",
    "    def __init__(self, d_model, dropout, max_len=5000):\n",
    "        super(PositionalEncoding, self).__init__()\n",
    "        self.dropout = nn.Dropout(p=dropout)\n",
    "        \n",
    "        # Compute the positional encodings once in log space.\n",
    "        pe = torch.zeros(max_len, d_model)\n",
    "        position = torch.arange(0, max_len).unsqueeze(1)\n",
    "        div_term = torch.exp(torch.arange(0, d_model, 2) * -(math.log(10000.0) / d_model))\n",
    "        \n",
    "        pe[:, 0::2] = torch.sin(position * div_term)\n",
    "        pe[:, 1::2] = torch.cos(position * div_term)\n",
    "        pe = pe.unsqueeze(0)\n",
    "        self.register_buffer('pe', pe)\n",
    "        \n",
    "    def forward(self, x):\n",
    "        x = x + Variable(self.pe[:, :x.size(1)], requires_grad=False)\n",
    "        return self.dropout(x)"
   ]
  },
  {
   "cell_type": "code",
   "execution_count": 20,
   "metadata": {},
   "outputs": [],
   "source": [
    "def make_model(src_vocab, tgt_vocab, N=6, \n",
    "               d_model=512, d_ff=2048, h=8, dropout=0.1):\n",
    "    \"\"\"\n",
    "        Helper: Construct a model from hyperparameters.\n",
    "    \"\"\"\n",
    "    c = copy.deepcopy\n",
    "    attn = MultiHeadedAttention(h, d_model)\n",
    "    ff = PositionwiseFeedForward(d_model, d_ff, dropout)\n",
    "    position = PositionalEncoding(d_model, dropout)\n",
    "    model = EncoderDecoder(\n",
    "        Encoder(EncoderLayer(d_model, c(attn), c(ff), dropout), N),\n",
    "        Decoder(DecoderLayer(d_model, c(attn), c(attn), \n",
    "                             c(ff), dropout), N),\n",
    "        nn.Sequential(Embeddings(d_model, src_vocab), c(position)),\n",
    "        nn.Sequential(Embeddings(d_model, tgt_vocab), c(position)),\n",
    "        Generator(d_model, tgt_vocab))\n",
    "    \n",
    "    # This was important from their code. \n",
    "    # Initialize parameters with Glorot / fan_avg.\n",
    "    for p in model.parameters():\n",
    "        if p.dim() > 1:\n",
    "            nn.init.xavier_uniform_(p)\n",
    "    return model"
   ]
  },
  {
   "cell_type": "code",
   "execution_count": 21,
   "metadata": {},
   "outputs": [],
   "source": [
    "class Batch:\n",
    "    \"\"\"\n",
    "        Object for holding a batch of data with mask during training.\n",
    "    \"\"\"\n",
    "    def __init__(self, src, trg=None, pad_input=0, pad_output=0):\n",
    "        self.src = src\n",
    "        self.src_mask = (src != pad_input).unsqueeze(-2)\n",
    "        if trg is not None:\n",
    "            self.trg = trg[:, :-1]\n",
    "            self.trg_y = trg[:, 1:]\n",
    "            self.trg_mask = self.make_std_mask(self.trg, pad_output)\n",
    "            self.ntokens = (self.trg_y != pad_output).data.sum()\n",
    "    \n",
    "    @staticmethod\n",
    "    def make_std_mask(tgt, pad):\n",
    "        \"\"\"\n",
    "            Create a mask to hide padding and future words.\n",
    "        \"\"\"\n",
    "        tgt_mask = (tgt != pad).unsqueeze(-2)\n",
    "        tgt_mask = tgt_mask & Variable(\n",
    "            subsequent_mask(tgt.size(-1)).type_as(tgt_mask.data))\n",
    "        return tgt_mask"
   ]
  },
  {
   "cell_type": "code",
   "execution_count": 22,
   "metadata": {},
   "outputs": [],
   "source": [
    "def run_epoch(data_iter, model, loss_compute):\n",
    "    \"\"\"\n",
    "        Standard Training and Logging Function\n",
    "    \"\"\"\n",
    "    start = time.time()\n",
    "    total_tokens = 0\n",
    "    total_loss = 0\n",
    "    tokens = 0\n",
    "    for i, batch in enumerate(data_iter):\n",
    "        out = model.forward(batch.src, batch.trg, batch.src_mask, batch.trg_mask)\n",
    "        loss = loss_compute(out, batch.trg_y, batch.ntokens)\n",
    "        total_loss += loss\n",
    "        total_tokens += batch.ntokens\n",
    "        tokens += batch.ntokens\n",
    "        if i % 50 == 1:\n",
    "            elapsed = time.time() - start\n",
    "            print(\"\\tEpoch Step: %d Loss: %f Tokens per Sec: %f\" % (i, loss / batch.ntokens, tokens / elapsed))\n",
    "            start = time.time()\n",
    "            tokens = 0\n",
    "    return total_loss / total_tokens"
   ]
  },
  {
   "cell_type": "code",
   "execution_count": 23,
   "metadata": {},
   "outputs": [],
   "source": [
    "global max_src_in_batch, max_tgt_in_batch\n",
    "def batch_size_fn(new, count, sofar):\n",
    "    \"\"\"\n",
    "        Keep augmenting batch and calculate total number of tokens + padding.\n",
    "    \"\"\"\n",
    "    global max_src_in_batch, max_tgt_in_batch\n",
    "    if count == 1:\n",
    "        max_src_in_batch = 0\n",
    "        max_tgt_in_batch = 0\n",
    "    max_src_in_batch = max(max_src_in_batch,  len(new.src))\n",
    "    max_tgt_in_batch = max(max_tgt_in_batch,  len(new.trg) + 2)\n",
    "    src_elements = count * max_src_in_batch\n",
    "    tgt_elements = count * max_tgt_in_batch\n",
    "    return max(src_elements, tgt_elements)"
   ]
  },
  {
   "cell_type": "code",
   "execution_count": 24,
   "metadata": {},
   "outputs": [],
   "source": [
    "class NoamOpt:\n",
    "    \"\"\"\n",
    "        Optim wrapper that implements rate.\n",
    "    \"\"\"\n",
    "    def __init__(self, model_size, factor, warmup, optimizer):\n",
    "        self.optimizer = optimizer\n",
    "        self._step = 0\n",
    "        self.warmup = warmup\n",
    "        self.factor = factor\n",
    "        self.model_size = model_size\n",
    "        self._rate = 0\n",
    "        \n",
    "    def step(self):\n",
    "        \"\"\"\n",
    "            Update parameters and rate\n",
    "        \"\"\"\n",
    "        self._step += 1\n",
    "        rate = self.rate()\n",
    "        for p in self.optimizer.param_groups:\n",
    "            p['lr'] = rate\n",
    "        self._rate = rate\n",
    "        self.optimizer.step()\n",
    "        \n",
    "    def rate(self, step = None):\n",
    "        \"\"\"\n",
    "            Implement `lrate` above\n",
    "        \"\"\"\n",
    "        if step is None:\n",
    "            step = self._step\n",
    "        return self.factor * \\\n",
    "            (self.model_size ** (-0.5) *\n",
    "            min(step ** (-0.5), step * self.warmup ** (-1.5)))"
   ]
  },
  {
   "cell_type": "code",
   "execution_count": 25,
   "metadata": {},
   "outputs": [],
   "source": [
    "def get_std_opt(model):\n",
    "    return NoamOpt(model.src_embed[0].d_model, 2, 4000,\n",
    "            torch.optim.Adam(model.parameters(), lr=0, betas=(0.9, 0.98), eps=1e-9))"
   ]
  },
  {
   "cell_type": "code",
   "execution_count": 26,
   "metadata": {},
   "outputs": [],
   "source": [
    "class LabelSmoothing(nn.Module):\n",
    "    \"\"\"\n",
    "        Implement label smoothing.\n",
    "    \"\"\"\n",
    "    def __init__(self, size, padding_idx, smoothing=0.0):\n",
    "        super(LabelSmoothing, self).__init__()\n",
    "        self.criterion = nn.KLDivLoss(size_average=False)\n",
    "        self.padding_idx = padding_idx\n",
    "        self.confidence = 1.0 - smoothing\n",
    "        self.smoothing = smoothing\n",
    "        self.size = size\n",
    "        self.true_dist = None\n",
    "        \n",
    "    def forward(self, x, target):\n",
    "        assert x.size(1) == self.size\n",
    "        \n",
    "        true_dist = x.data.clone()\n",
    "        true_dist.fill_(self.smoothing / (self.size - 2))\n",
    "        true_dist.scatter_(1, target.data.unsqueeze(1), self.confidence)\n",
    "        true_dist[:, self.padding_idx] = 0\n",
    "        \n",
    "        mask = torch.nonzero(target.data == self.padding_idx)\n",
    "        if mask.dim() > 0:\n",
    "            true_dist.index_fill_(0, mask.squeeze(), 0.0)\n",
    "        \n",
    "        self.true_dist = true_dist\n",
    "        return self.criterion(x, Variable(true_dist, requires_grad=False))"
   ]
  },
  {
   "cell_type": "code",
   "execution_count": 27,
   "metadata": {},
   "outputs": [],
   "source": [
    "class SimpleLossCompute:\n",
    "    \"\"\"\n",
    "        A simple loss compute and train function.\n",
    "    \"\"\"\n",
    "    def __init__(self, generator, criterion, opt=None):\n",
    "        self.generator = generator\n",
    "        self.criterion = criterion\n",
    "        self.opt = opt\n",
    "        \n",
    "    def __call__(self, x, y, norm):\n",
    "        x = self.generator(x)\n",
    "        loss = self.criterion(x.contiguous().view(-1, x.size(-1)), y.contiguous().view(-1)) / norm\n",
    "        if self.opt is not None:\n",
    "            loss.backward()\n",
    "            self.opt.step()\n",
    "            self.opt.optimizer.zero_grad()\n",
    "        return loss.data.item() * norm"
   ]
  },
  {
   "cell_type": "code",
   "execution_count": 28,
   "metadata": {},
   "outputs": [],
   "source": [
    "def greedy_decode(model, src, src_mask, max_len, start_symbol):\n",
    "    memory = model.encode(src, src_mask)\n",
    "    ys = torch.ones(1, 1).fill_(start_symbol).type_as(src.data)\n",
    "    for i in range(max_len-1):\n",
    "        out = model.decode(memory, src_mask, \n",
    "                           Variable(ys), \n",
    "                           Variable(subsequent_mask(ys.size(1))\n",
    "                                    .type_as(src.data)))\n",
    "        prob = model.generator(out[:, -1])\n",
    "        _, next_word = torch.max(prob, dim = 1)\n",
    "        next_word = next_word.data[0]\n",
    "        ys = torch.cat([ys, torch.ones(1, 1).type_as(src.data).fill_(next_word)], dim=1)\n",
    "        if output_tokenizer.get_vocab['<end>'] == next_word:\n",
    "            break\n",
    "    return ys"
   ]
  },
  {
   "cell_type": "code",
   "execution_count": 29,
   "metadata": {},
   "outputs": [],
   "source": [
    "from torchtext import data as data_"
   ]
  },
  {
   "cell_type": "code",
   "execution_count": 30,
   "metadata": {},
   "outputs": [],
   "source": [
    "class MyIterator(data_.Iterator):\n",
    "    def create_batches(self):\n",
    "        if self.train:\n",
    "            def pool(d, random_shuffler):\n",
    "                for p in data.batch(d, self.batch_size * 100):\n",
    "                    p_batch = data.batch(\n",
    "                        sorted(p, key=self.sort_key),\n",
    "                        self.batch_size, self.batch_size_fn)\n",
    "                    for b in random_shuffler(list(p_batch)):\n",
    "                        yield b\n",
    "            self.batches = pool(self.data(), self.random_shuffler)\n",
    "            \n",
    "        else:\n",
    "            self.batches = []\n",
    "            for b in data.batch(self.data(), self.batch_size,\n",
    "                                          self.batch_size_fn):\n",
    "                self.batches.append(sorted(b, key=self.sort_key))"
   ]
  },
  {
   "cell_type": "code",
   "execution_count": 31,
   "metadata": {},
   "outputs": [],
   "source": [
    "def rebatch(null_input_token, null_output_token,  batch):\n",
    "    \"Fix order in torchtext to match ours\"\n",
    "    src, trg = x = batch['input'],  batch['output']\n",
    "    return Batch(src, trg, null_input_token, null_output_token)"
   ]
  },
  {
   "cell_type": "code",
   "execution_count": 32,
   "metadata": {},
   "outputs": [],
   "source": [
    "from tokenizers.implementations import ByteLevelBPETokenizer\n",
    "from tokenizers.processors import BertProcessing\n",
    "from tokenizers import Tokenizer"
   ]
  },
  {
   "cell_type": "code",
   "execution_count": 33,
   "metadata": {},
   "outputs": [],
   "source": [
    "from torch.utils.data import DataLoader"
   ]
  },
  {
   "cell_type": "code",
   "execution_count": 34,
   "metadata": {},
   "outputs": [],
   "source": [
    "from sklearn.model_selection import train_test_split"
   ]
  },
  {
   "cell_type": "code",
   "execution_count": 35,
   "metadata": {},
   "outputs": [],
   "source": [
    "from tokenizers import Tokenizer, pre_tokenizers, normalizers, decoders, models, processors"
   ]
  },
  {
   "cell_type": "code",
   "execution_count": 36,
   "metadata": {},
   "outputs": [],
   "source": [
    "from tokenizer import Tokenizer as Tokenize"
   ]
  },
  {
   "cell_type": "code",
   "execution_count": 37,
   "metadata": {},
   "outputs": [],
   "source": [
    "from seq2seq_attn import (NLPDataset, collate_fn_padd) "
   ]
  },
  {
   "cell_type": "code",
   "execution_count": 38,
   "metadata": {},
   "outputs": [],
   "source": [
    "import pandas as pd"
   ]
  },
  {
   "cell_type": "code",
   "execution_count": 39,
   "metadata": {},
   "outputs": [],
   "source": [
    "input_tokenizer = Tokenizer(models.BPE(\n",
    "  vocab=\"./input_tokenizer-vocab.json\", \n",
    "  merges=\"./input_tokenizer-merges.txt\"\n",
    "))"
   ]
  },
  {
   "cell_type": "code",
   "execution_count": 40,
   "metadata": {},
   "outputs": [],
   "source": [
    "input_tokenizer.normalizer = normalizers.Lowercase()\n",
    "input_tokenizer.pre_tokenizer = pre_tokenizers.ByteLevel(add_prefix_space=True)\n",
    "input_tokenizer.decoder = decoders.ByteLevel()\n",
    "input_tokenizer.post_processor = BertProcessing(\n",
    "  sep=(\"<end>\", input_tokenizer.token_to_id(\"<end>\")),\n",
    "  cls=(\"<start>\", input_tokenizer.token_to_id(\"<start>\")),\n",
    ")"
   ]
  },
  {
   "cell_type": "code",
   "execution_count": 41,
   "metadata": {},
   "outputs": [],
   "source": [
    "special_tokens = [\"<start>\", \"<pad>\", \"<end>\", \"<unk>\", \"<mask>\"]"
   ]
  },
  {
   "cell_type": "code",
   "execution_count": 42,
   "metadata": {},
   "outputs": [],
   "source": [
    "output_tokenizer = Tokenize(files='../data/output.txt', mode='word_level', checker='output',\n",
    "                      special_tokens=special_tokens, max_length=10, tokenizer='./tokenizer_output.pickle')"
   ]
  },
  {
   "cell_type": "code",
   "execution_count": 43,
   "metadata": {},
   "outputs": [],
   "source": [
    "null_input_token =  input_tokenizer.get_vocab()['<pad>']\n",
    "null_output_token =  output_tokenizer.get_vocab['<pad>']\n",
    "start_token = output_tokenizer.get_vocab['<start>']\n",
    "end_token = output_tokenizer.get_vocab['<end>']"
   ]
  },
  {
   "cell_type": "code",
   "execution_count": 44,
   "metadata": {},
   "outputs": [
    {
     "data": {
      "text/plain": [
       "4464"
      ]
     },
     "execution_count": 44,
     "metadata": {},
     "output_type": "execute_result"
    }
   ],
   "source": [
    "null_output_token"
   ]
  },
  {
   "cell_type": "code",
   "execution_count": 45,
   "metadata": {},
   "outputs": [],
   "source": [
    "data = pd.read_json('../data/final_df.json')\n",
    "data.output = data.output.apply(lambda x: x.replace('/', ' '))"
   ]
  },
  {
   "cell_type": "code",
   "execution_count": 46,
   "metadata": {},
   "outputs": [],
   "source": [
    "data = data.sample(len(data))"
   ]
  },
  {
   "cell_type": "code",
   "execution_count": 47,
   "metadata": {},
   "outputs": [],
   "source": [
    "train = data[:int(0.999 * data.shape[0])]\n",
    "val = data[int(0.999 * data.shape[0]):]"
   ]
  },
  {
   "cell_type": "code",
   "execution_count": 48,
   "metadata": {},
   "outputs": [],
   "source": [
    "dataset_train = NLPDataset(train, input_tokenizer, output_tokenizer)\n",
    "dataset_val = NLPDataset(val, input_tokenizer, output_tokenizer)"
   ]
  },
  {
   "cell_type": "code",
   "execution_count": 49,
   "metadata": {},
   "outputs": [],
   "source": [
    "dataloader_train = DataLoader(dataset_train, batch_size=40, shuffle=True,\n",
    "                              num_workers=3, collate_fn=collate_fn_padd)\n",
    "dataloader_val = DataLoader(dataset_val, batch_size=40, shuffle=False, num_workers=3,\n",
    "                            collate_fn=collate_fn_padd)"
   ]
  },
  {
   "cell_type": "code",
   "execution_count": 50,
   "metadata": {},
   "outputs": [
    {
     "name": "stderr",
     "output_type": "stream",
     "text": [
      "/home/gabriel.pontes/.local/lib/python3.6/site-packages/torch/nn/_reduction.py:43: UserWarning: size_average and reduce args will be deprecated, please use reduction='sum' instead.\n",
      "  warnings.warn(warning.format(ret))\n"
     ]
    }
   ],
   "source": [
    "criterion = LabelSmoothing(size=len(output_tokenizer.get_vocab), padding_idx=null_output_token, smoothing=0.1)\n",
    "model = make_model(len(input_tokenizer.get_vocab()), len(output_tokenizer.get_vocab), N=2)"
   ]
  },
  {
   "cell_type": "code",
   "execution_count": 51,
   "metadata": {},
   "outputs": [],
   "source": [
    "model_opt = NoamOpt(model.src_embed[0].d_model, 1, 2000,\n",
    "                    torch.optim.Adam(model.parameters(), lr=0, betas=(0.9, 0.98), eps=1e-9))"
   ]
  },
  {
   "cell_type": "code",
   "execution_count": null,
   "metadata": {},
   "outputs": [
    {
     "name": "stdout",
     "output_type": "stream",
     "text": [
      "EPOCH:  0\n"
     ]
    },
    {
     "name": "stderr",
     "output_type": "stream",
     "text": [
      "/pytorch/torch/csrc/utils/python_arg_parser.cpp:756: UserWarning: This overload of nonzero is deprecated:\n",
      "\tnonzero(Tensor input, *, Tensor out)\n",
      "Consider using one of the following signatures instead:\n",
      "\tnonzero(Tensor input, *, bool as_tuple)\n"
     ]
    },
    {
     "name": "stdout",
     "output_type": "stream",
     "text": [
      "\tEpoch Step: 1 Loss: 7.103647 Tokens per Sec: 134.426102\n",
      "\tEpoch Step: 51 Loss: 5.460472 Tokens per Sec: 251.403763\n",
      "\tEpoch Step: 101 Loss: 4.677882 Tokens per Sec: 252.397827\n",
      "\tEpoch Step: 151 Loss: 3.934355 Tokens per Sec: 249.568298\n",
      "\tEpoch Step: 201 Loss: 3.497052 Tokens per Sec: 237.112747\n",
      "\tEpoch Step: 251 Loss: 3.207328 Tokens per Sec: 251.349915\n",
      "\tEpoch Step: 301 Loss: 2.451070 Tokens per Sec: 251.747360\n",
      "\tEpoch Step: 351 Loss: 2.282195 Tokens per Sec: 254.836456\n",
      "\tEpoch Step: 401 Loss: 2.021716 Tokens per Sec: 253.108566\n",
      "\tEpoch Step: 451 Loss: 1.582152 Tokens per Sec: 254.119537\n",
      "\tEpoch Step: 501 Loss: 1.772688 Tokens per Sec: 249.432510\n",
      "\tEpoch Step: 551 Loss: 1.695111 Tokens per Sec: 255.712082\n",
      "\tEpoch Step: 601 Loss: 1.256668 Tokens per Sec: 252.056732\n",
      "\tEpoch Step: 651 Loss: 1.579850 Tokens per Sec: 251.320969\n",
      "\tEpoch Step: 701 Loss: 1.496598 Tokens per Sec: 240.520432\n",
      "\tEpoch Step: 751 Loss: 1.292640 Tokens per Sec: 255.256744\n",
      "\tEpoch Step: 801 Loss: 1.397658 Tokens per Sec: 254.983246\n",
      "\tEpoch Step: 851 Loss: 1.278321 Tokens per Sec: 253.238098\n",
      "\tEpoch Step: 901 Loss: 1.384829 Tokens per Sec: 251.979843\n",
      "\tEpoch Step: 951 Loss: 1.375952 Tokens per Sec: 256.187653\n",
      "\tEpoch Step: 1001 Loss: 1.021538 Tokens per Sec: 252.409546\n",
      "\tEpoch Step: 1051 Loss: 1.067611 Tokens per Sec: 255.316391\n",
      "\tEpoch Step: 1101 Loss: 1.196017 Tokens per Sec: 254.068069\n",
      "\tEpoch Step: 1151 Loss: 1.241883 Tokens per Sec: 252.382904\n",
      "\tEpoch Step: 1201 Loss: 0.812639 Tokens per Sec: 237.072235\n",
      "\tEpoch Step: 1251 Loss: 0.992149 Tokens per Sec: 259.778107\n",
      "\tEpoch Step: 1301 Loss: 0.863383 Tokens per Sec: 264.821381\n",
      "\tEpoch Step: 1351 Loss: 1.161545 Tokens per Sec: 264.240295\n",
      "\tEpoch Step: 1401 Loss: 1.206269 Tokens per Sec: 263.406067\n",
      "\tEpoch Step: 1451 Loss: 1.079328 Tokens per Sec: 262.379486\n",
      "\tEpoch Step: 1501 Loss: 1.102950 Tokens per Sec: 263.071503\n",
      "\tEpoch Step: 1551 Loss: 1.016877 Tokens per Sec: 257.939728\n",
      "\tEpoch Step: 1601 Loss: 0.966203 Tokens per Sec: 261.263092\n",
      "\tEpoch Step: 1651 Loss: 1.038176 Tokens per Sec: 263.264435\n",
      "\tEpoch Step: 1701 Loss: 0.834391 Tokens per Sec: 262.539154\n",
      "\tEpoch Step: 1751 Loss: 0.890142 Tokens per Sec: 262.874451\n",
      "\tEpoch Step: 1801 Loss: 0.759750 Tokens per Sec: 262.094086\n",
      "\tEpoch Step: 1851 Loss: 0.926031 Tokens per Sec: 259.292694\n",
      "\tEpoch Step: 1901 Loss: 1.045965 Tokens per Sec: 262.394318\n",
      "\tEpoch Step: 1951 Loss: 1.061299 Tokens per Sec: 256.961761\n",
      "\tEpoch Step: 2001 Loss: 0.899099 Tokens per Sec: 261.222687\n",
      "\tEpoch Step: 2051 Loss: 0.939437 Tokens per Sec: 256.538361\n",
      "\tEpoch Step: 2101 Loss: 0.872924 Tokens per Sec: 258.793274\n",
      "\tEpoch Step: 2151 Loss: 0.819366 Tokens per Sec: 255.478378\n",
      "\tEpoch Step: 2201 Loss: 0.968995 Tokens per Sec: 257.201660\n",
      "\tEpoch Step: 2251 Loss: 1.299228 Tokens per Sec: 258.007904\n",
      "\tEpoch Step: 2301 Loss: 0.901339 Tokens per Sec: 238.285507\n",
      "\tEpoch Step: 2351 Loss: 0.833210 Tokens per Sec: 247.500641\n",
      "\tEpoch Step: 2401 Loss: 0.977748 Tokens per Sec: 239.449966\n",
      "\tEpoch Step: 2451 Loss: 0.822458 Tokens per Sec: 242.152100\n",
      "\tEpoch Step: 2501 Loss: 0.912176 Tokens per Sec: 232.428909\n",
      "\tEpoch Step: 2551 Loss: 0.945213 Tokens per Sec: 233.721756\n",
      "\tEpoch Step: 2601 Loss: 0.896363 Tokens per Sec: 246.698502\n",
      "\tEpoch Step: 2651 Loss: 0.720570 Tokens per Sec: 218.689026\n",
      "\tEpoch Step: 2701 Loss: 0.894661 Tokens per Sec: 233.653305\n",
      "\tEpoch Step: 2751 Loss: 0.809844 Tokens per Sec: 235.858215\n",
      "\tEpoch Step: 2801 Loss: 1.102352 Tokens per Sec: 230.951721\n",
      "\tEpoch Step: 2851 Loss: 0.883796 Tokens per Sec: 238.047699\n",
      "\tEpoch Step: 2901 Loss: 0.643468 Tokens per Sec: 231.105713\n",
      "\tEpoch Step: 2951 Loss: 0.694996 Tokens per Sec: 230.775314\n",
      "\tEpoch Step: 3001 Loss: 0.997715 Tokens per Sec: 219.783600\n",
      "\tEpoch Step: 3051 Loss: 0.708857 Tokens per Sec: 216.574997\n",
      "\tEpoch Step: 3101 Loss: 0.639723 Tokens per Sec: 214.485077\n",
      "\tEpoch Step: 3151 Loss: 0.834881 Tokens per Sec: 203.876846\n",
      "\tEpoch Step: 3201 Loss: 0.643839 Tokens per Sec: 219.933838\n",
      "\tEpoch Step: 3251 Loss: 0.871699 Tokens per Sec: 209.393524\n",
      "\tEpoch Step: 3301 Loss: 0.829448 Tokens per Sec: 222.499619\n",
      "\tEpoch Step: 3351 Loss: 0.627852 Tokens per Sec: 244.044006\n",
      "\tEpoch Step: 3401 Loss: 0.680842 Tokens per Sec: 221.775299\n",
      "\tEpoch Step: 3451 Loss: 0.844945 Tokens per Sec: 238.360382\n",
      "\tEpoch Step: 3501 Loss: 0.996588 Tokens per Sec: 240.825226\n",
      "\tEpoch Step: 3551 Loss: 1.051513 Tokens per Sec: 244.487640\n",
      "\tEpoch Step: 3601 Loss: 0.710311 Tokens per Sec: 246.042404\n",
      "\tEpoch Step: 3651 Loss: 0.930619 Tokens per Sec: 243.213257\n"
     ]
    }
   ],
   "source": [
    "for epoch in range(10):\n",
    "    print(\"EPOCH: \", epoch)\n",
    "    model.train()\n",
    "    run_epoch((rebatch(null_input_token, null_output_token, b) for b in dataloader_train), \n",
    "                model, \n",
    "                SimpleLossCompute(model.generator, criterion, opt=model_opt))\n",
    "    print()\n",
    "        \n",
    "    model.eval()\n",
    "    loss = run_epoch((rebatch(null_input_token, null_output_token, b) for b in dataloader_val), \n",
    "                      model, \n",
    "                      SimpleLossCompute(model.generator, criterion, opt=None))\n",
    "    print(loss)"
   ]
  },
  {
   "cell_type": "code",
   "execution_count": null,
   "metadata": {},
   "outputs": [],
   "source": [
    "torch.save(model, 'transformer.pt')"
   ]
  },
  {
   "cell_type": "code",
   "execution_count": null,
   "metadata": {},
   "outputs": [],
   "source": [
    "def sample(x, y, model):\n",
    "    model.eval()\n",
    "    x = input_tokenizer.encode(x).ids\n",
    "    x = torch.tensor(x).unsqueeze(0)\n",
    "    \n",
    "    #src = x.transpose(0, 1)[:1]\n",
    "    src = x[:1]\n",
    "    src_mask = (src != null_input_token).unsqueeze(-2)\n",
    "    \n",
    "    out = greedy_decode(model, src, src_mask, max_len=7, start_symbol=start_token)\n",
    "    out = out[0]\n",
    "    out = [item.data.item() for item in out]\n",
    "    \n",
    "    print(\"Translation:\", end=\"\\t\")\n",
    "    sym = output_tokenizer.decode(out)\n",
    "    print(sym, end =\" \")\n",
    "    print()\n",
    "    \n",
    "    print(\"Target:\", end=\"\\t\")\n",
    "    tokens = output_tokenizer.encode(y).ids\n",
    "    sym = output_tokenizer.decode(tokens)\n",
    "    print(sym, end =\" \")\n",
    "    print()"
   ]
  },
  {
   "cell_type": "code",
   "execution_count": null,
   "metadata": {},
   "outputs": [],
   "source": [
    "data.query_string.tolist()[1053], data.output.tolist()[1053]"
   ]
  },
  {
   "cell_type": "code",
   "execution_count": null,
   "metadata": {},
   "outputs": [],
   "source": [
    "sample('tv led 15 polegadas', 'tv-e-home-theater tv tv-monitor', model)"
   ]
  }
 ],
 "metadata": {
  "kernelspec": {
   "display_name": "Python 3",
   "language": "python",
   "name": "python3"
  },
  "language_info": {
   "codemirror_mode": {
    "name": "ipython",
    "version": 3
   },
   "file_extension": ".py",
   "mimetype": "text/x-python",
   "name": "python",
   "nbconvert_exporter": "python",
   "pygments_lexer": "ipython3",
   "version": "3.6.9"
  }
 },
 "nbformat": 4,
 "nbformat_minor": 4
}
