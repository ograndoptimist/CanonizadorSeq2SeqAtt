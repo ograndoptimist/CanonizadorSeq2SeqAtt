{
 "cells": [
  {
   "cell_type": "code",
   "execution_count": 1,
   "metadata": {},
   "outputs": [],
   "source": [
    "import pandas as pd"
   ]
  },
  {
   "cell_type": "code",
   "execution_count": 2,
   "metadata": {},
   "outputs": [],
   "source": [
    "import torch"
   ]
  },
  {
   "cell_type": "code",
   "execution_count": 3,
   "metadata": {},
   "outputs": [],
   "source": [
    "from tokenizers import Tokenizer"
   ]
  },
  {
   "cell_type": "code",
   "execution_count": 4,
   "metadata": {},
   "outputs": [],
   "source": [
    "from tokenizers.implementations import ByteLevelBPETokenizer\n",
    "from tokenizers.processors import BertProcessing"
   ]
  },
  {
   "cell_type": "code",
   "execution_count": 5,
   "metadata": {},
   "outputs": [],
   "source": [
    "from torch.utils.data import DataLoader"
   ]
  },
  {
   "cell_type": "code",
   "execution_count": 6,
   "metadata": {},
   "outputs": [],
   "source": [
    "from sklearn.model_selection import train_test_split"
   ]
  },
  {
   "cell_type": "code",
   "execution_count": 7,
   "metadata": {},
   "outputs": [],
   "source": [
    "import numpy as np"
   ]
  },
  {
   "cell_type": "code",
   "execution_count": 8,
   "metadata": {},
   "outputs": [],
   "source": [
    "from tqdm import tqdm"
   ]
  },
  {
   "cell_type": "code",
   "execution_count": 9,
   "metadata": {},
   "outputs": [],
   "source": [
    "from seq2seq_attn import (NLPDataset, Seq2SeqAtt, collate_fn_padd)"
   ]
  },
  {
   "cell_type": "code",
   "execution_count": 10,
   "metadata": {},
   "outputs": [],
   "source": [
    "from tokenizers import Tokenizer, pre_tokenizers, normalizers, decoders, models, processors"
   ]
  },
  {
   "cell_type": "code",
   "execution_count": 11,
   "metadata": {},
   "outputs": [],
   "source": [
    "from tokenizer import Tokenizer as Tokenize"
   ]
  },
  {
   "cell_type": "markdown",
   "metadata": {},
   "source": [
    "# 1) Preparação do Tokenizador"
   ]
  },
  {
   "cell_type": "markdown",
   "metadata": {},
   "source": [
    "## 1.1) Tokenizador do Input"
   ]
  },
  {
   "cell_type": "code",
   "execution_count": 12,
   "metadata": {},
   "outputs": [],
   "source": [
    "input_tokenizer = Tokenizer(models.BPE(\n",
    "  vocab=\"./input_tokenizer-vocab.json\", \n",
    "  merges=\"./input_tokenizer-merges.txt\"\n",
    "))"
   ]
  },
  {
   "cell_type": "code",
   "execution_count": 13,
   "metadata": {},
   "outputs": [],
   "source": [
    "input_tokenizer.normalizer = normalizers.Lowercase()\n",
    "input_tokenizer.pre_tokenizer = pre_tokenizers.ByteLevel(add_prefix_space=True)\n",
    "input_tokenizer.decoder = decoders.ByteLevel()\n",
    "input_tokenizer.post_processor = BertProcessing(\n",
    "  sep=(\"<end>\", input_tokenizer.token_to_id(\"<end>\")),\n",
    "  cls=(\"<start>\", input_tokenizer.token_to_id(\"<start>\")),\n",
    ")"
   ]
  },
  {
   "cell_type": "markdown",
   "metadata": {},
   "source": [
    "## 1.2) Tokenizador do Output"
   ]
  },
  {
   "cell_type": "code",
   "execution_count": 14,
   "metadata": {},
   "outputs": [],
   "source": [
    "special_tokens = [\"<start>\", \"<pad>\", \"<end>\", \"<unk>\", \"<mask>\"]"
   ]
  },
  {
   "cell_type": "code",
   "execution_count": 15,
   "metadata": {},
   "outputs": [],
   "source": [
    "output_tokenizer = Tokenize(files='../data/output.txt', mode='word_level', checker='output',\n",
    "                      special_tokens=special_tokens, max_length=10, tokenizer='./tokenizer_output.pickle')"
   ]
  },
  {
   "cell_type": "code",
   "execution_count": 16,
   "metadata": {},
   "outputs": [],
   "source": [
    "null_input_token =  input_tokenizer.get_vocab()['<pad>']\n",
    "null_output_token =  output_tokenizer.get_vocab['<pad>']\n",
    "start_token = output_tokenizer.get_vocab['<start>']\n",
    "end_token = output_tokenizer.get_vocab['<end>']"
   ]
  },
  {
   "cell_type": "markdown",
   "metadata": {},
   "source": [
    "# 2) Ingestão de dados"
   ]
  },
  {
   "cell_type": "code",
   "execution_count": 17,
   "metadata": {},
   "outputs": [],
   "source": [
    "data = pd.read_json('../data/final_df.json')\n",
    "data.output = data.output.apply(lambda x: x.replace('/', ' '))"
   ]
  },
  {
   "cell_type": "markdown",
   "metadata": {},
   "source": [
    "# 3) Preparação do Dataset"
   ]
  },
  {
   "cell_type": "code",
   "execution_count": 18,
   "metadata": {},
   "outputs": [],
   "source": [
    "BATCH_SIZE = 40"
   ]
  },
  {
   "cell_type": "code",
   "execution_count": 19,
   "metadata": {},
   "outputs": [],
   "source": [
    "data = data.sample(len(data))"
   ]
  },
  {
   "cell_type": "code",
   "execution_count": 20,
   "metadata": {},
   "outputs": [],
   "source": [
    "train = data[:int(0.999 * data.shape[0])]\n",
    "val = data[int(0.999 * data.shape[0]):]"
   ]
  },
  {
   "cell_type": "code",
   "execution_count": 21,
   "metadata": {},
   "outputs": [
    {
     "data": {
      "text/plain": [
       "(1289595, 1291)"
      ]
     },
     "execution_count": 21,
     "metadata": {},
     "output_type": "execute_result"
    }
   ],
   "source": [
    "len(train), len(val)"
   ]
  },
  {
   "cell_type": "code",
   "execution_count": 22,
   "metadata": {},
   "outputs": [],
   "source": [
    "dataset_train = NLPDataset(train, input_tokenizer, output_tokenizer)\n",
    "dataset_val = NLPDataset(val, input_tokenizer, output_tokenizer)"
   ]
  },
  {
   "cell_type": "code",
   "execution_count": 23,
   "metadata": {},
   "outputs": [],
   "source": [
    "dataloader_train = DataLoader(dataset_train, batch_size=BATCH_SIZE, shuffle=True,\n",
    "                              num_workers=3, collate_fn=collate_fn_padd)\n",
    "dataloader_val = DataLoader(dataset_val, batch_size=len(val), shuffle=False, num_workers=3,\n",
    "                            collate_fn=collate_fn_padd)"
   ]
  },
  {
   "cell_type": "markdown",
   "metadata": {},
   "source": [
    "# 4) Preparação do Modelo"
   ]
  },
  {
   "cell_type": "code",
   "execution_count": 24,
   "metadata": {},
   "outputs": [],
   "source": [
    "seq2seq = Seq2SeqAtt(null_token=null_input_token, start_token=start_token, end_token=end_token,\n",
    "                     encoder_vocab_size=len(input_tokenizer.get_vocab()),\n",
    "                     decoder_vocab_size=len(output_tokenizer.get_vocab), \n",
    "                     wordvec_dim=48, hidden_dim=64, rnn_num_layers=1,\n",
    "                     rnn_dropout=0)"
   ]
  },
  {
   "cell_type": "code",
   "execution_count": 25,
   "metadata": {},
   "outputs": [],
   "source": [
    "optimizer = torch.optim.Adam(seq2seq.parameters())"
   ]
  },
  {
   "cell_type": "code",
   "execution_count": 26,
   "metadata": {},
   "outputs": [],
   "source": [
    "EPOCHS = 10"
   ]
  },
  {
   "cell_type": "code",
   "execution_count": null,
   "metadata": {},
   "outputs": [
    {
     "name": "stderr",
     "output_type": "stream",
     "text": [
      "  0%|          | 0/32240 [00:00<?, ?it/s]"
     ]
    },
    {
     "name": "stdout",
     "output_type": "stream",
     "text": [
      "Epoch 0\n"
     ]
    },
    {
     "name": "stderr",
     "output_type": "stream",
     "text": [
      "  2%|▏         | 565/32240 [02:18<2:02:43,  4.30it/s]"
     ]
    }
   ],
   "source": [
    "best_loss = float(\"inf\")\n",
    "for epoch in range(EPOCHS):\n",
    "    print(\"Epoch\", epoch)\n",
    "    \n",
    "    seq2seq.train()\n",
    "    train_loss = []\n",
    "    for batch in tqdm(dataloader_train):\n",
    "        x = batch['input']\n",
    "        y = batch['output']\n",
    "        \n",
    "        loss = seq2seq(x, y)\n",
    "        train_loss.append(loss.data.item())\n",
    "        loss.backward()\n",
    "        \n",
    "        optimizer.step()\n",
    "        optimizer.zero_grad()\n",
    "    print(\"\\tTrain loss: {0}\".format(np.mean(train_loss)))\n",
    "        \n",
    "    seq2seq.eval()\n",
    "    val_loss = None\n",
    "    with torch.no_grad():\n",
    "        for batch in tqdm(dataloader_val):\n",
    "            x = batch['input']\n",
    "            y = batch['output']\n",
    "            \n",
    "            loss = seq2seq(x, y)\n",
    "            val_loss = loss.data.item()\n",
    "                \n",
    "    if val_loss < best_loss:\n",
    "        best_loss = val_loss\n",
    "        torch.save(seq2seq, 'seq2seq.pt')\n",
    "    \n",
    "    print(\"\\tVal loss: {0}\".format(val_loss))\n",
    "    print()"
   ]
  },
  {
   "cell_type": "markdown",
   "metadata": {},
   "source": [
    "# 6) Avaliação do output do modelo"
   ]
  },
  {
   "cell_type": "code",
   "execution_count": null,
   "metadata": {},
   "outputs": [],
   "source": [
    "x = data.query_string.tolist()[0]"
   ]
  },
  {
   "cell_type": "code",
   "execution_count": null,
   "metadata": {},
   "outputs": [],
   "source": [
    "x"
   ]
  },
  {
   "cell_type": "code",
   "execution_count": null,
   "metadata": {},
   "outputs": [],
   "source": [
    "tokens = input_tokenizer.encode(x).ids"
   ]
  },
  {
   "cell_type": "code",
   "execution_count": null,
   "metadata": {},
   "outputs": [],
   "source": [
    "tokens"
   ]
  },
  {
   "cell_type": "code",
   "execution_count": null,
   "metadata": {},
   "outputs": [],
   "source": [
    "decoding = []\n",
    "for token in seq2seq.sample(torch.tensor(tokens).unsqueeze(0)):\n",
    "    if isinstance(token, int):    \n",
    "        token = torch.tensor(token)\n",
    "    decoding.append(token.item())    "
   ]
  },
  {
   "cell_type": "code",
   "execution_count": null,
   "metadata": {},
   "outputs": [],
   "source": [
    "output_tokenizer.decode(decoding)"
   ]
  },
  {
   "cell_type": "code",
   "execution_count": null,
   "metadata": {},
   "outputs": [],
   "source": [
    "data.output.tolist()[0]"
   ]
  }
 ],
 "metadata": {
  "kernelspec": {
   "display_name": "Python 3",
   "language": "python",
   "name": "python3"
  },
  "language_info": {
   "codemirror_mode": {
    "name": "ipython",
    "version": 3
   },
   "file_extension": ".py",
   "mimetype": "text/x-python",
   "name": "python",
   "nbconvert_exporter": "python",
   "pygments_lexer": "ipython3",
   "version": "3.6.9"
  }
 },
 "nbformat": 4,
 "nbformat_minor": 4
}
